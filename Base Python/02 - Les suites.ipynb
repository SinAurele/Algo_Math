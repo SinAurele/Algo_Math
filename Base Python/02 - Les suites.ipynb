{
 "cells": [
  {
   "cell_type": "markdown",
   "metadata": {},
   "source": [
    "# Les suites\n",
    "\n",
    "Il existe deux façons de définir une suite :\n",
    "* forme explique (fonctionne comme une fonction)\n",
    "* forme récursive (utilise le résultat trouvé précédemment)\n",
    "\n",
    "## Algorithme pour une suite sous forme explicite\n",
    "Une suite sous forme explicite fonctionne comme une fonction classique. On peut donc utiliser le code décrit dans les parties précédentes.\n",
    "\n",
    "Soit la suite $(u_n)$ définie par:\n",
    "$$u_n = 3 \\times n^2 - 10$$\n",
    "1. Affichez les 10 premiers termes de la suite\n",
    "2. Affichez le terme $u_{100}$\n",
    "\n",
    "Le code permettant cela est le suivant :\n"
   ]
  },
  {
   "cell_type": "code",
   "execution_count": 22,
   "metadata": {},
   "outputs": [
    {
     "name": "stdout",
     "output_type": "stream",
     "text": [
      "-10\n",
      "-7\n",
      "2\n",
      "17\n",
      "38\n",
      "65\n",
      "98\n",
      "137\n",
      "182\n",
      "233\n",
      "u(100) = 29990\n"
     ]
    }
   ],
   "source": [
    "def u(n):\n",
    "    resultat = 3 * n**2 - 10\n",
    "    return resultat\n",
    "    \n",
    "# Question 1\n",
    "for i in range (10):\n",
    "    print(u(i))\n",
    "    \n",
    "# Question 2\n",
    "print(\"u(100) =\", u(100))"
   ]
  },
  {
   "cell_type": "markdown",
   "metadata": {},
   "source": [
    "## Algorithme pour une suite sous forme récursive\n",
    "\n",
    "Soit $(u_n)$ définie de la façon suivante:\n",
    "$$u_{n+1}=3\\times u_n -2$$\n",
    "avec $u_0=2$\n",
    "\n",
    "1. Affichez les 10 premiers termes de la suite.\n",
    "2. Affichez la valeur de $u_{100}$\n",
    "\n",
    "\n",
    "Le code permettant cela est le suivant:"
   ]
  },
  {
   "cell_type": "code",
   "execution_count": 23,
   "metadata": {},
   "outputs": [
    {
     "name": "stdout",
     "output_type": "stream",
     "text": [
      "2\n",
      "4\n",
      "10\n",
      "28\n",
      "82\n",
      "244\n",
      "730\n",
      "2188\n",
      "6562\n",
      "19684\n",
      "u(100) = 515377520732011331036461129765621272702107522002\n"
     ]
    }
   ],
   "source": [
    "def u(n):\n",
    "    u_actuel = 2 # Valeur de u(0)\n",
    "    for i in range(n):\n",
    "        # on calcule le terme de rang n + 1\n",
    "        u_suivant = 3 * u_actuel - 2 \n",
    "        # le terme suivant devient le nouveau terme actuel / en cours.\n",
    "        u_actuel = u_suivant \n",
    "        # On recommence cela n fois grace à la boucle 'for'\n",
    "    return u_actuel\n",
    "\n",
    "# Question 1\n",
    "for i in range(10):\n",
    "    print(u(i))\n",
    "\n",
    "#Question 2\n",
    "print(\"u(100) =\", u(100))"
   ]
  },
  {
   "cell_type": "markdown",
   "metadata": {},
   "source": [
    "# Exercice\n",
    "En vous basant sur les exemples de code précédant, afficher pour chacun des cas suivant \n",
    "1. les 10 premiers termes de la suite\n",
    "2. la valeur de $u_{50}$"
   ]
  },
  {
   "cell_type": "markdown",
   "metadata": {},
   "source": [
    "$u_n = -2n+10$"
   ]
  },
  {
   "cell_type": "code",
   "execution_count": 24,
   "metadata": {},
   "outputs": [],
   "source": [
    "# A vous de jouer"
   ]
  },
  {
   "cell_type": "markdown",
   "metadata": {},
   "source": [
    "$u_n = n^2-3n+15$"
   ]
  },
  {
   "cell_type": "code",
   "execution_count": 25,
   "metadata": {},
   "outputs": [],
   "source": [
    "# A vous de jouer"
   ]
  },
  {
   "cell_type": "markdown",
   "metadata": {},
   "source": [
    "$u_{n+1}=2u_n -10$ avec $u_0=5$"
   ]
  },
  {
   "cell_type": "code",
   "execution_count": 26,
   "metadata": {},
   "outputs": [],
   "source": [
    "# A vous de jouer"
   ]
  },
  {
   "cell_type": "markdown",
   "metadata": {},
   "source": [
    "$u_{n+1}=-4u_n+3$ avec $u_n=1$ "
   ]
  },
  {
   "cell_type": "code",
   "execution_count": null,
   "metadata": {},
   "outputs": [],
   "source": [
    "# A vous de jouer"
   ]
  },
  {
   "cell_type": "markdown",
   "metadata": {},
   "source": [
    "# Exercice\n",
    "La légende raconte qu'en Inde, dans une époque reculée, un roi s'ennuie. Alors il demande qu’on lui invente un jeu pour le distraire. En échange il écoutera la requête de la personne réussissant cela.\n",
    "Le sage Sissa arrive alors avec un jeu d'échec. Le roi, charmé par ce jeu lui demande ce qu'il veut en échange. Sissa demande la chose suivante :\n",
    "* On met 1 grain de riz sur la première case de l'échiquier.\n",
    "* On met 2 grains de riz sur la deuxième case.\n",
    "* 4 grains de riz sur la troisième.\n",
    "* On continue ainsi jusqu'à la dernière case de l'échiquier.\n",
    "\n",
    "Il demande à ce qu'on lui donne la quantité de grain de riz utilisée.\n",
    "\n",
    "Le roi accepte. Mais plus tard, les grans comptables du roi viennent le voir car à cause de cela, le royaume est ruiné.\n",
    "\n",
    "## Questions \n",
    "Vous répondrez aux questions suivantes en faisant un programme. Vous pouvez commencer par le faire les calcule avec votre calculatrice.\n",
    "1. Combien de grains de riz sont nécessaires pour répondre à la demande de Sissa ? Indiquez le calcul et le résultat\n",
    "2. Recherchez le poids d'un grain de riz (ou le nombre de grain de grain dans 1 kg) sur internet ainsi que la quantité de riz annuelle produite dans le monde en un an.\n",
    "3. Combien d'année faudrait-il pour \"payer\" Sissa ?\n"
   ]
  },
  {
   "cell_type": "code",
   "execution_count": 19,
   "metadata": {},
   "outputs": [],
   "source": [
    "#votre code ici"
   ]
  },
  {
   "cell_type": "markdown",
   "metadata": {},
   "source": [
    "## Réponses\n",
    "1. \n",
    "2. \n",
    "3. "
   ]
  },
  {
   "cell_type": "markdown",
   "metadata": {},
   "source": [
    "# Exercice (facultatif)\n",
    "Faire un programme qui calcule le terme n de la suite de Fibonacci"
   ]
  },
  {
   "cell_type": "code",
   "execution_count": 27,
   "metadata": {},
   "outputs": [],
   "source": [
    "# A vous de jouer"
   ]
  }
 ],
 "metadata": {
  "kernelspec": {
   "display_name": "Python 3",
   "language": "python",
   "name": "python3"
  },
  "language_info": {
   "codemirror_mode": {
    "name": "ipython",
    "version": 3
   },
   "file_extension": ".py",
   "mimetype": "text/x-python",
   "name": "python",
   "nbconvert_exporter": "python",
   "pygments_lexer": "ipython3",
   "version": "3.6.1"
  }
 },
 "nbformat": 4,
 "nbformat_minor": 4
}
