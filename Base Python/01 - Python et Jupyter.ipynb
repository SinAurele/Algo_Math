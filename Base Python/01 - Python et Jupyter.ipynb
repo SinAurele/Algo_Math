{
 "cells": [
  {
   "cell_type": "markdown",
   "metadata": {},
   "source": [
    "# Préambule\n",
    "\n",
    "Dans le programme d'informatique ce trouve une partie imformatique. Vous devez être capable de produire un algorithme pour résodre un problème, de l'implémenter en python, de produire et utiliser des feuilles de calcul avec un tableur ....\n",
    "\n",
    "Nous allons se concentré dans cette partie sur les algorithmes et le code python. Pour cela, vous allez utiliser cet outil qui ous permet d'executer du code python sous avori besoin d'installer quoi que ce soit chez vous (mise à part un navigateur web)\n",
    "\n",
    "Pour commencer, regardons comment executer du code.\n",
    "\n",
    "# Executez du code\n",
    "Le code suivant affiche seuelement un message vous disant \"Bonjour\". Pour executez ce code, appuyez sur ``Ctrl + Entrer`` ou cliquez sur le bouton ``Play`` dan le menu en haut.\n",
    "\n"
   ]
  },
  {
   "cell_type": "code",
   "execution_count": 1,
   "metadata": {},
   "outputs": [
    {
     "name": "stdout",
     "output_type": "stream",
     "text": [
      "Bonjour\n"
     ]
    }
   ],
   "source": [
    "print (\"Bonjour\")"
   ]
  }
 ],
 "metadata": {
  "kernelspec": {
   "display_name": "Python 3",
   "language": "python",
   "name": "python3"
  },
  "language_info": {
   "codemirror_mode": {
    "name": "ipython",
    "version": 3
   },
   "file_extension": ".py",
   "mimetype": "text/x-python",
   "name": "python",
   "nbconvert_exporter": "python",
   "pygments_lexer": "ipython3",
   "version": "3.6.1"
  }
 },
 "nbformat": 4,
 "nbformat_minor": 4
}
