{
 "cells": [
  {
   "cell_type": "markdown",
   "metadata": {},
   "source": [
    "# Préambule\n",
    "\n",
    "Dans le programme de mathématique se trouve une partie informatique. Vous devez être capable de produire un algorithme pour résoudre un problème, de l'implémenter en python, de produire et utiliser des feuilles de calcul avec un tableur, etc. \n",
    "\n",
    "Nous allons nous concentrer dans cette partie sur les algorithmes et le code python. Pour cela, vous allez utiliser cet outil qui nous permet d'exécuter du code python sous avoir besoin d'installer quoi que ce soit chez vous (mise à part un navigateur web)\n",
    "\n",
    "\n",
    "# Naviguer\n",
    "L'outil ici est Jupyter NoteBook. Sans rentrer dans les détails, nous allons voir comment se déplacer dans ce fichier.\n",
    "\n",
    "Premièrement, pour vous déplacer de section en section, vous pouvez utiliser les flèches ``haut`` et ``bas``.\n",
    "\n",
    "Pour éditer une case, vous pouvez appuyer dans la touche ``Entrée``. Vous passez alors en mode **Edition**\n",
    "\n",
    "Pour sortir du mode **Edition** et revenir au mode **Navigation**, il vous suffit d'appuyer sur ``Echap`` . \n",
    "\n",
    "Enfin, faites ``Ctrl + Entrer`` pour visualiser vos modifications.\n",
    "\n",
    "Exercice :\n",
    "1. Editez la section suivante pour marque la réponses \"42\"\n",
    "2. Déplacez vous jusqu'à la section \"Exécuter du code\".\n"
   ]
  },
  {
   "cell_type": "markdown",
   "metadata": {},
   "source": [
    "**Réponses** : votre réponse ici !"
   ]
  },
  {
   "cell_type": "markdown",
   "metadata": {},
   "source": [
    "# Exécuter du code\n",
    "Le code suivant affiche seulement un message vous disant \"Bonjour\". Pour exécuter ce code, appuyez sur ``Ctrl + Entrer`` ou cliquez sur le bouton ``Exécuter`` dans le menu en haut.\n"
   ]
  },
  {
   "cell_type": "code",
   "execution_count": null,
   "metadata": {},
   "outputs": [],
   "source": [
    "# Le texte précédé d'un dièse n'est pas exécuté. Cela sert à ajouter des commentaires au code\n",
    "print (\"Bonjour\")"
   ]
  },
  {
   "cell_type": "markdown",
   "metadata": {},
   "source": [
    "Dans ce TP, nous allons utiliser/définir des fonctions. Imaginons la fonction mathématique suivante :\n",
    "$$f(x) = 3x+2$$\n",
    "\n",
    "Nous voulons un programme qui calcul $f(5)$. Cela donnera le code suivant :\n"
   ]
  },
  {
   "cell_type": "code",
   "execution_count": 17,
   "metadata": {},
   "outputs": [
    {
     "name": "stdout",
     "output_type": "stream",
     "text": [
      "17\n"
     ]
    }
   ],
   "source": [
    "# On commence par définir la fonction\n",
    "def f(x):\n",
    "    return 3 * x + 2\n",
    "\n",
    "#On demande à afficher - print - le résutat de f(5) qui doit être 17\n",
    "print(f(5))"
   ]
  },
  {
   "cell_type": "markdown",
   "metadata": {},
   "source": [
    "Enfin pour faire plusieurs fois une action on peut utiliser une boucle. Voici un exemple d’utilisation :"
   ]
  },
  {
   "cell_type": "code",
   "execution_count": 18,
   "metadata": {},
   "outputs": [
    {
     "name": "stdout",
     "output_type": "stream",
     "text": [
      "f( 0 )= 2\n",
      "f( 1 )= 5\n",
      "f( 2 )= 8\n",
      "f( 3 )= 11\n",
      "f( 4 )= 14\n",
      "f( 5 )= 17\n",
      "f( 6 )= 20\n",
      "f( 7 )= 23\n",
      "f( 8 )= 26\n",
      "f( 9 )= 29\n"
     ]
    }
   ],
   "source": [
    "def toto(truc): # C'est la même fonction que la précédente. Je vous montre seulement qu'on peut donner le nom qu'on veut à la variable et à la fonction.\n",
    "    return 3 * truc + 2\n",
    "\n",
    "for i in range(10) : # pour i allant de 0 à 9 (donc 10 valeurs)\n",
    "    # le code suivant va être éxecuté pour chaque valeur de 'i'.\n",
    "    print(\"f(\", i ,\")=\", toto(i))"
   ]
  }
 ],
 "metadata": {
  "kernelspec": {
   "display_name": "Python 3",
   "language": "python",
   "name": "python3"
  },
  "language_info": {
   "codemirror_mode": {
    "name": "ipython",
    "version": 3
   },
   "file_extension": ".py",
   "mimetype": "text/x-python",
   "name": "python",
   "nbconvert_exporter": "python",
   "pygments_lexer": "ipython3",
   "version": "3.6.1"
  }
 },
 "nbformat": 4,
 "nbformat_minor": 4
}
